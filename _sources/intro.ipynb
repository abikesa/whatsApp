{
 "cells": [
  {
   "cell_type": "markdown",
   "metadata": {},
   "source": [
    "</Details>\n",
    "\n",
    "<Details>\n",
    "   <Summary>🌕</Summary>\n",
    "\n",
    "<h5>The Randomized Controlled Trial: An Ideal for the Frail Scientists Seeking Fixed Truth</h5><br>\n",
    "In the pursuit of scientific knowledge, the randomized controlled trial (RCT) stands as an epitome of rigor and credibility, much like a religious doctrine for some. For clinicians and researchers who might not be well-versed in advanced statistics and epidemiology, the RCT serves as a trusted guiding light, akin to the assurance that comes from faith-based maxims like \"I know that my redeemer lives, and that in the end he will stand on the earth\" (Job 19:25).\n",
    "\n",
    "<h5>A Quest for Truth</h5><br>\n",
    "The Randomized Controlled Trial is designed to minimize error and control for confounding variables (at Token 4 in the figure above), enabling a more accurate estimation of causal relationships. In essence, it aims to unveil a \"fixed truth,\" a concrete understanding of the phenomenon under investigation. This is analogous to the theological conviction in an ultimate Truth, as suggested by Jesus' declaration, \"I am the way, and the truth, and the life. No one comes to the Father except through me\" (John 14:6). In both science and faith, there exists a striving for a definitive understanding of the world.\n",
    "\n",
    "<h5>The Sanctity of Methodology</h5><br>\n",
    "The methodology of the RCT is often considered sacrosanct because it imposes strict controls to safeguard against bias and variance. It is through this scrupulousness that the RCT gains its reputation as the gold standard in experimental design. Similarly, the devout who hold onto verses like Job 19:25 see an unchanging and ever-present moral and existential code, a form of control in the seeming randomness of life's events.\n",
    "\n",
    "<h5>Reconciling Rigor and Faith</h5><br>\n",
    "RCTs and religious convictions may seem worlds apart, but in the eyes of a clinician with minimal exposure to intricate statistical models, the RCT provides a simplistic, yet robust way to find answers. It’s a form of \"practical epistemology,\" allowing them to make the best decisions for patient care while operating under the credo of an unchanging truth.\n",
    "\n",
    "<h5>The Limits of Both Worlds</h5><br>\n",
    "Yet, it is crucial to recognize the limitations. Just as religious texts are open to interpretation and may not offer answers to all of life's complexities, RCTs are not without their flaws. They can be costly, time-consuming, and may not always be generalizable. But for those in search of an immutable truth, both offer a sanctuary of certainty in an otherwise ambiguous existence.\n",
    "\n",
    "<h5>Conclusion</h5><br>\n",
    "The Randomized Controlled Trial is more than a scientific method; for some, it's a credo that simplifies complex realities into digestible, actionable wisdom. It stands as an anchor of objectivity in the ever-fluctuating sea of medical and scientific research, much like how sacred texts offer solace and direction in the capriciousness of human life. Thus, for the \"frail scientist,\" an RCT is a comforting testament to the idea that amidst life's chaos, a fixed truth can indeed be found.\n",
    "\n",
    "---\n",
    "\n",
    "The more advanced view has a completely different approach:\n",
    "\n",
    "1. Error is bias and variance\n",
    "2. Variance is to be explained\n",
    "3. Bias is to be controlled\n",
    "4. Not in the sense of \"control\" group\n",
    "5. In the sense of the process generating the data\n",
    "\n",
    "</Details>\n",
    "\n",
    "<Details>\n",
    "   <Summary>🌕</Summary>"
   ]
  },
  {
   "cell_type": "markdown",
   "metadata": {},
   "source": [
    "1. <span style=\"color:lightpink;\">Voir</span>\n",
    "   - Truth: Perception of biological and primal stimuli; see\n",
    "   - Entirely dependent on perspective; power/hierarchy\n",
    "   - Cells/Tissues; Immune/Neuro/Endocrine/Reproductive/Kidney/CVS\n",
    "   - Steroids, Catecholamines, Cytokines, Hormones\n",
    "   - Dionysian: Homeostasis, Biology\n",
    "2. <span style=\"color:lightyellow;\">Pouvoir</span> \n",
    "   - Knowledge: Acquiring skills, match challenges; do\n",
    "   - Adaptation, homeostasis, allostasis; variance/explain\n",
    "   - Organs/Systems; Muscle/Bone \n",
    "   - Dopamine, Serotonin, Oxytocin, Endorphins\n",
    "   - Tragedy: Allostasis, Psychology\n",
    "3. <span style=\"color:lightgreen;\">Savoir</span>\n",
    "   - Justice: Cumulated values, beliefs, and norms; be\n",
    "   - Silos, numbing with comforts and distractions, \"bread\"; bias/control\n",
    "   - Person/Interaction; Frontal Cortex, Hippocampus, Amygdala\n",
    "   - GABA, Adenosine, Glutamate, Acetylcholine\n",
    "   - Apollonian: Sociostasis, Credo\n",
    "\n",
    "\n",
    "</Details>\n",
    "\n",
    "<Details>\n",
    "   <Summary></Summary>\n",
    "\n",
    "1. [This](https://www.economist.com/films/2023/10/09/well-red-inside-the-economists-language-and-style) reveals a lot of interesting phenomena\n",
    "2. Souless GenZ and Millenials\n",
    "3. Exposed to the same \"Dionysian\" stimuli \n",
    "4. With a much weakened \"Apollonian\" counterbalance\n",
    "5. History usually provided monumental, antiquarian, and critical perspectives\n",
    "6. Now, it's just a \"Dionysian\" free-for-all - and with all the attendant fenzy, intoxication and addiction\n",
    "7. Because frenzy is from the external (boundless) rather than internal (bounded) elements, we fear it breaches the limits of the \"Apollonian\" counterbalance\n",
    "</Details>"
   ]
  }
 ],
 "metadata": {
  "kernelspec": {
   "display_name": "Python 3",
   "language": "python",
   "name": "python3"
  },
  "language_info": {
   "codemirror_mode": {
    "name": "ipython",
    "version": 3
   },
   "file_extension": ".py",
   "mimetype": "text/x-python",
   "name": "python",
   "nbconvert_exporter": "python",
   "pygments_lexer": "ipython3",
   "version": "3.11.4"
  },
  "orig_nbformat": 4
 },
 "nbformat": 4,
 "nbformat_minor": 2
}
